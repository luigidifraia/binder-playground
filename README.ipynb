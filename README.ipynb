{
   "cells":[
      {
         "metadata":{
            
         },
         "cell_type":"markdown",
         "source":"# luigidifraia/binder-playground\nClick [here](../lab) to open a JupyterLab tab. Click [here](../notebooks) to open a Classic Notebook tab."
      },
      {
         "metadata":{
            "trusted":false
         },
         "cell_type":"code",
         "source":"print(\"Hello, World!\")",
         "execution_count":1,
         "outputs":[
            {
               "name":"stdout",
               "output_type":"stream",
               "text":"Hello World!\n"
            }
         ]
      }
   ],
   "metadata":{
      "anaconda-cloud":{
         
      },
      "kernelspec":{
         "name":"python3",
         "display_name":"Python 3",
         "language":"python"
      },
      "language_info":{
         "name":"python",
         "version":"3.7.10",
         "mimetype":"text/x-python",
         "codemirror_mode":{
            "name":"ipython",
            "version":3
         },
         "pygments_lexer":"ipython3",
         "nbconvert_exporter":"python",
         "file_extension":".py"
      }
   },
   "nbformat":4,
   "nbformat_minor":2
}
